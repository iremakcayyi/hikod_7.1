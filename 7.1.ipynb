{
 "cells": [
  {
   "cell_type": "code",
   "execution_count": 2,
   "id": "96a122c9",
   "metadata": {},
   "outputs": [],
   "source": [
    "import pandas as pd"
   ]
  },
  {
   "cell_type": "code",
   "execution_count": 3,
   "id": "dc3cfc7b",
   "metadata": {},
   "outputs": [],
   "source": [
    "sozluk = {\n",
    "    \"Kategori\": [\"Giyim\", \"Giyim\", \"Ayakkabı\", \"Aksesuar\", \"Ayakkabı\", \"Giyim\", \"Aksesuar\", \"Aksesuar\", \"Ayakkabı\", \"Giyim\"],\n",
    "    \"Ürün\": [\"Kazak\", \"T-shirt\", \"Sandalet\", \"Küpe\", \"Spor Ayakkabı\", \"Pantolon\", \"Kolye\", \"Yüzük\", \"Çizme\", \"Ceket\"],\n",
    "    \"Fiyat\": [300, 180, 450, 50, 700, 400, 150, 80, 850, 900]\n",
    "}"
   ]
  },
  {
   "cell_type": "code",
   "execution_count": 4,
   "id": "70fc0c15",
   "metadata": {},
   "outputs": [],
   "source": [
    "df = pd.DataFrame(sozluk)"
   ]
  },
  {
   "cell_type": "code",
   "execution_count": 5,
   "id": "8826b9c8",
   "metadata": {},
   "outputs": [
    {
     "name": "stdout",
     "output_type": "stream",
     "text": [
      "   Kategori           Ürün  Fiyat\n",
      "0     Giyim          Kazak    300\n",
      "1     Giyim        T-shirt    180\n",
      "2  Ayakkabı       Sandalet    450\n",
      "3  Aksesuar           Küpe     50\n",
      "4  Ayakkabı  Spor Ayakkabı    700\n",
      "5     Giyim       Pantolon    400\n",
      "6  Aksesuar          Kolye    150\n",
      "7  Aksesuar          Yüzük     80\n",
      "8  Ayakkabı          Çizme    850\n",
      "9     Giyim          Ceket    900\n"
     ]
    }
   ],
   "source": [
    "print(df)"
   ]
  },
  {
   "cell_type": "code",
   "execution_count": 6,
   "id": "a712db41",
   "metadata": {},
   "outputs": [
    {
     "name": "stdout",
     "output_type": "stream",
     "text": [
      "2. indexteki kategori: Ayakkabı\n"
     ]
    }
   ],
   "source": [
    "kategori = df.loc[2, 'Kategori']\n",
    "print(\"2. indexteki kategori:\", kategori)"
   ]
  },
  {
   "cell_type": "code",
   "execution_count": 7,
   "id": "57e92647",
   "metadata": {},
   "outputs": [
    {
     "name": "stdout",
     "output_type": "stream",
     "text": [
      "2. indexteki ürün: Sandalet\n"
     ]
    }
   ],
   "source": [
    "urun = df.loc[2, 'Ürün']\n",
    "print(\"2. indexteki ürün:\", urun)"
   ]
  },
  {
   "cell_type": "code",
   "execution_count": 8,
   "id": "ec4c3acf",
   "metadata": {},
   "outputs": [
    {
     "name": "stdout",
     "output_type": "stream",
     "text": [
      "4. indexten 9. indexe kadar olan veriler:\n",
      "    Kategori           Ürün  Fiyat\n",
      "4  Ayakkabı  Spor Ayakkabı    700\n",
      "5     Giyim       Pantolon    400\n",
      "6  Aksesuar          Kolye    150\n",
      "7  Aksesuar          Yüzük     80\n",
      "8  Ayakkabı          Çizme    850\n",
      "9     Giyim          Ceket    900\n"
     ]
    }
   ],
   "source": [
    "veriler = df.loc[4:9]\n",
    "print(\"4. indexten 9. indexe kadar olan veriler:\\n\", veriler)"
   ]
  },
  {
   "cell_type": "code",
   "execution_count": 11,
   "id": "b9ee88de",
   "metadata": {},
   "outputs": [
    {
     "name": "stdout",
     "output_type": "stream",
     "text": [
      "1. indexten 6. indexe kadar olan ürünler:\n",
      " 1          T-shirt\n",
      "2         Sandalet\n",
      "3             Küpe\n",
      "4    Spor Ayakkabı\n",
      "5         Pantolon\n",
      "6            Kolye\n",
      "Name: Ürün, dtype: object\n"
     ]
    }
   ],
   "source": [
    "urunler = df.loc[1:6, 'Ürün']\n",
    "print(\"1. indexten 6. indexe kadar olan ürünler:\\n\", urunler)"
   ]
  },
  {
   "cell_type": "code",
   "execution_count": 12,
   "id": "26b23cb7",
   "metadata": {},
   "outputs": [
    {
     "name": "stdout",
     "output_type": "stream",
     "text": [
      "Giyim kategorisinde bulunan ürünler:\n",
      " 0       Kazak\n",
      "1     T-shirt\n",
      "5    Pantolon\n",
      "9       Ceket\n",
      "Name: Ürün, dtype: object\n"
     ]
    }
   ],
   "source": [
    "giyim_urunler = df[df['Kategori'] == 'Giyim']['Ürün']\n",
    "print(\"Giyim kategorisinde bulunan ürünler:\\n\", giyim_urunler)"
   ]
  },
  {
   "cell_type": "code",
   "execution_count": 15,
   "id": "51cf1c51",
   "metadata": {},
   "outputs": [
    {
     "name": "stdout",
     "output_type": "stream",
     "text": [
      "Ayakkabı kategorisinde bulunan ürünler:\n",
      " 2         Sandalet\n",
      "4    Spor Ayakkabı\n",
      "8            Çizme\n",
      "Name: Ürün, dtype: object\n"
     ]
    }
   ],
   "source": [
    "ayakkabi_urunler= df[df['Kategori']=='Ayakkabı']['Ürün']\n",
    "print(\"Ayakkabı kategorisinde bulunan ürünler:\\n\", ayakkabi_urunler)"
   ]
  },
  {
   "cell_type": "code",
   "execution_count": 16,
   "id": "203c9b41",
   "metadata": {},
   "outputs": [
    {
     "name": "stdout",
     "output_type": "stream",
     "text": [
      "Aksesuar kategorisinde bulunan ürünler:\n",
      " 3     Küpe\n",
      "6    Kolye\n",
      "7    Yüzük\n",
      "Name: Ürün, dtype: object\n"
     ]
    }
   ],
   "source": [
    "aksesuar_urunler= df[df['Kategori']=='Aksesuar']['Ürün']\n",
    "print(\"Aksesuar kategorisinde bulunan ürünler:\\n\", aksesuar_urunler)"
   ]
  },
  {
   "cell_type": "code",
   "execution_count": 17,
   "id": "9a0b264e",
   "metadata": {},
   "outputs": [
    {
     "name": "stdout",
     "output_type": "stream",
     "text": [
      "Giyim kategorisinde fiyatı 300'den fazla olan ürünler:\n",
      "   Kategori      Ürün  Fiyat\n",
      "5    Giyim  Pantolon    400\n",
      "9    Giyim     Ceket    900\n"
     ]
    }
   ],
   "source": [
    "giyim_fiyat_300 = df[(df['Kategori'] == 'Giyim') & (df['Fiyat'] > 300)]\n",
    "print(\"Giyim kategorisinde fiyatı 300'den fazla olan ürünler:\\n\", giyim_fiyat_300)\n"
   ]
  },
  {
   "cell_type": "code",
   "execution_count": 18,
   "id": "6dee14a8",
   "metadata": {},
   "outputs": [
    {
     "name": "stdout",
     "output_type": "stream",
     "text": [
      "\n",
      "Ayakkabı kategorisinde fiyatı 600'den az olan ürünler:\n",
      "    Kategori      Ürün  Fiyat\n",
      "2  Ayakkabı  Sandalet    450\n"
     ]
    }
   ],
   "source": [
    "ayakkabi_fiyat_600 = df[(df['Kategori'] == 'Ayakkabı') & (df['Fiyat'] < 600)]\n",
    "print(\"\\nAyakkabı kategorisinde fiyatı 600'den az olan ürünler:\\n\", ayakkabi_fiyat_600)\n"
   ]
  },
  {
   "cell_type": "code",
   "execution_count": 19,
   "id": "df1cf8cf",
   "metadata": {},
   "outputs": [
    {
     "name": "stdout",
     "output_type": "stream",
     "text": [
      "\n",
      "Aksesuar kategorisinde fiyatı 100'den fazla olan ürünler:\n",
      "    Kategori   Ürün  Fiyat\n",
      "6  Aksesuar  Kolye    150\n"
     ]
    }
   ],
   "source": [
    "aksesuar_fiyat_100 = df[(df['Kategori'] == 'Aksesuar') & (df['Fiyat'] > 100)]\n",
    "print(\"\\nAksesuar kategorisinde fiyatı 100'den fazla olan ürünler:\\n\", aksesuar_fiyat_100)"
   ]
  }
 ],
 "metadata": {
  "kernelspec": {
   "display_name": "Python 3 (ipykernel)",
   "language": "python",
   "name": "python3"
  },
  "language_info": {
   "codemirror_mode": {
    "name": "ipython",
    "version": 3
   },
   "file_extension": ".py",
   "mimetype": "text/x-python",
   "name": "python",
   "nbconvert_exporter": "python",
   "pygments_lexer": "ipython3",
   "version": "3.11.5"
  }
 },
 "nbformat": 4,
 "nbformat_minor": 5
}
